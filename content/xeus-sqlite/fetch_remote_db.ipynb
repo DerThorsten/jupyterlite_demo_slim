{
 "cells": [
  {
   "cell_type": "code",
   "execution_count": null,
   "id": "84d56ea7-04b4-46b6-8192-b950c2649fee",
   "metadata": {},
   "outputs": [],
   "source": [
    "%FETCH https://github.com/lerocha/chinook-database/blob/master/ChinookDatabase/DataSources/Chinook_Sqlite.sqlite?raw=true db.db"
   ]
  },
  {
   "cell_type": "code",
   "execution_count": null,
   "id": "1baa2e6e-05ae-4c51-b6f1-df7f41ffa3e7",
   "metadata": {},
   "outputs": [],
   "source": [
    "%LOAD db.db"
   ]
  },
  {
   "cell_type": "code",
   "execution_count": null,
   "id": "aadc448f-9414-4b4e-8db0-ee7001aec9be",
   "metadata": {},
   "outputs": [],
   "source": [
    "SELECT * FROM Artist LIMIT 10;"
   ]
  }
 ],
 "metadata": {
  "kernelspec": {
   "display_name": "xsqlite",
   "language": "sqlite",
   "name": "xsqlite"
  },
  "language_info": {
   "codemirror_mode": "sql",
   "file_extension": "",
   "mimetype": "",
   "name": "sql",
   "version": "3.33.0"
  }
 },
 "nbformat": 4,
 "nbformat_minor": 5
}
